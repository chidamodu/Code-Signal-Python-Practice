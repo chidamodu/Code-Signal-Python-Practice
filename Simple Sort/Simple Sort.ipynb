{
 "cells": [
  {
   "cell_type": "code",
   "execution_count": null,
   "metadata": {},
   "outputs": [],
   "source": [
    "To understand how efficient the built-in Python sorting function is, you decided to implement your own simple sorting \n",
    "algorithm and compare its speed to the speed of the Python sorting. Write a function that, given an array of integers \n",
    "arr, sorts its elements in ascending order.\n",
    "\n",
    "Hint: with Python it's possible to swap several elements in a single line. To solve the task, use this knowledge to \n",
    "fill in both of the blanks (...).\n",
    "\n",
    "Example\n",
    "\n",
    "For arr = [2, 4, 1, 5], the output should be\n",
    "simpleSort(arr) = [1, 2, 4, 5].\n",
    "\n",
    "------------------------------------------------------------------------------------------------------------------------------------\n",
    "\n",
    "Input/Output\n",
    "\n",
    "[execution time limit] 4 seconds (py3)\n",
    "\n",
    "[input] array.integer arr\n",
    "\n",
    "Guaranteed constraints:\n",
    "1 ≤ arr.length ≤ 500,\n",
    "-105 ≤ arr[i] ≤ 105.\n",
    "\n",
    "[output] array.integer\n",
    "\n",
    "The given array with elements sorted in ascending order."
   ]
  },
  {
   "cell_type": "code",
   "execution_count": null,
   "metadata": {},
   "outputs": [],
   "source": [
    "def simpleSort(arr):\n",
    "\n",
    "    n = len(arr)\n",
    "\n",
    "    for i in range(n):\n",
    "        j = 0\n",
    "        stop = n - i\n",
    "        while j < stop - 1:\n",
    "            if arr[j] > arr[j + 1]:\n",
    "                arr[j], arr[j+1] = arr[j+1], arr[j]\n",
    "            j += 1\n",
    "    return arr"
   ]
  }
 ],
 "metadata": {
  "kernelspec": {
   "display_name": "Python 3",
   "language": "python",
   "name": "python3"
  },
  "language_info": {
   "codemirror_mode": {
    "name": "ipython",
    "version": 3
   },
   "file_extension": ".py",
   "mimetype": "text/x-python",
   "name": "python",
   "nbconvert_exporter": "python",
   "pygments_lexer": "ipython3",
   "version": "3.7.4"
  }
 },
 "nbformat": 4,
 "nbformat_minor": 2
}
