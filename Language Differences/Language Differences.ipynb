{
 "cells": [
  {
   "cell_type": "code",
   "execution_count": null,
   "metadata": {},
   "outputs": [],
   "source": [
    "Your friend, an experienced coder, has just started to learn Python. Since he is already proficient in Java and C++, \n",
    "he decided to write all his snippets in all three languages to test his Python code. Here's the very first function \n",
    "your friend wrote in Python and Java (the C++ version is the same as Java one):\n",
    "\n",
    "def division(x, y):\n",
    "    return x // y\n",
    "in division(int x, int y) {\n",
    "    return x / y;\n",
    "}\n",
    "\n",
    "You noticed that the functions aren't quite the same: they won't produce the same result for some valid values of x \n",
    "and y. Which ones?\n",
    "\n",
    "a. x = 15, y = -4\n",
    "b. x = -8, y = 2\n",
    "c. x = -8, y = 2\n",
    "d. x = 17, y = 13\n",
    "e. x = 5, y = 10\n"
   ]
  },
  {
   "cell_type": "code",
   "execution_count": null,
   "metadata": {},
   "outputs": [],
   "source": [
    "Answer: a. x = 15, y = -4 "
   ]
  }
 ],
 "metadata": {
  "kernelspec": {
   "display_name": "Python 3",
   "language": "python",
   "name": "python3"
  },
  "language_info": {
   "codemirror_mode": {
    "name": "ipython",
    "version": 3
   },
   "file_extension": ".py",
   "mimetype": "text/x-python",
   "name": "python",
   "nbconvert_exporter": "python",
   "pygments_lexer": "ipython3",
   "version": "3.7.4"
  }
 },
 "nbformat": 4,
 "nbformat_minor": 2
}
