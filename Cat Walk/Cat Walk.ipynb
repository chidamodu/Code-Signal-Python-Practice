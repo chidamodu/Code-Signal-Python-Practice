{
 "cells": [
  {
   "cell_type": "code",
   "execution_count": null,
   "metadata": {},
   "outputs": [],
   "source": [
    "You've been working on a particularly difficult algorithm all day, and finally decided to take a break and drink some \n",
    "coffee. To your horror, when you returned you found out that your cat decided to take a walk on the keyboard in your \n",
    "absence, and pressed a key or two. Your computer doesn't react to letters being pressed when an unauthorized action \n",
    "appears, but allows typing whitespace characters and moving the arrow keys, so now your masterpiece contains way too \n",
    "many whitespace characters.\n",
    "\n",
    "To repair the damage, you need to start with implementing a function that will replace all multiple space characters \n",
    "in the given line of your code with single ones. In addition, all leading and trailing whitespaces should be removed.\n",
    "\n",
    "Example:\n",
    "For line = \"def      m   e  gaDifficu     ltFun        ction(x):\"\n",
    "\n",
    "the output should be\n",
    "\n",
    "catWalk(line) = \"def m e gaDifficu ltFun ction(x):\"."
   ]
  },
  {
   "cell_type": "code",
   "execution_count": 69,
   "metadata": {},
   "outputs": [],
   "source": [
    "line = \"def      m   e  gaDifficu     ltFun        ction(x):\""
   ]
  },
  {
   "cell_type": "code",
   "execution_count": 33,
   "metadata": {},
   "outputs": [],
   "source": [
    "Trial 1\n",
    "\n",
    "def catWalk(code):\n",
    "    return \"\".join(code.strip(\" \"))\n"
   ]
  },
  {
   "cell_type": "code",
   "execution_count": 34,
   "metadata": {},
   "outputs": [
    {
     "data": {
      "text/plain": [
       "'def      m   e  gaDifficu     ltFun        ction(x):'"
      ]
     },
     "execution_count": 34,
     "metadata": {},
     "output_type": "execute_result"
    }
   ],
   "source": [
    "catWalk(line)"
   ]
  },
  {
   "cell_type": "code",
   "execution_count": 65,
   "metadata": {},
   "outputs": [],
   "source": [
    "Trial 2\n",
    "\n",
    "def catWalk(code):\n",
    "    return \" \".join(code.split(' ')).replace(\"  \", \" \").rstrip(\" \")\n"
   ]
  },
  {
   "cell_type": "code",
   "execution_count": 66,
   "metadata": {},
   "outputs": [
    {
     "data": {
      "text/plain": [
       "'def   m  e gaDifficu   ltFun    ction(x):'"
      ]
     },
     "execution_count": 66,
     "metadata": {},
     "output_type": "execute_result"
    }
   ],
   "source": [
    "catWalk(line)"
   ]
  },
  {
   "cell_type": "code",
   "execution_count": 72,
   "metadata": {},
   "outputs": [],
   "source": [
    "line = \"def      m   e  gaDifficu     ltFun        ction(x):\""
   ]
  },
  {
   "cell_type": "code",
   "execution_count": 73,
   "metadata": {},
   "outputs": [],
   "source": [
    "Final submission\n",
    "\n",
    "def catWalk(code):\n",
    "    return ' '.join(code.split())\n",
    "    \n",
    "    "
   ]
  },
  {
   "cell_type": "code",
   "execution_count": 74,
   "metadata": {},
   "outputs": [
    {
     "data": {
      "text/plain": [
       "'def m e gaDifficu ltFun ction(x):'"
      ]
     },
     "execution_count": 74,
     "metadata": {},
     "output_type": "execute_result"
    }
   ],
   "source": [
    "catWalk(line)"
   ]
  }
 ],
 "metadata": {
  "kernelspec": {
   "display_name": "Python 3",
   "language": "python",
   "name": "python3"
  },
  "language_info": {
   "codemirror_mode": {
    "name": "ipython",
    "version": 3
   },
   "file_extension": ".py",
   "mimetype": "text/x-python",
   "name": "python",
   "nbconvert_exporter": "python",
   "pygments_lexer": "ipython3",
   "version": "3.7.4"
  }
 },
 "nbformat": 4,
 "nbformat_minor": 2
}
