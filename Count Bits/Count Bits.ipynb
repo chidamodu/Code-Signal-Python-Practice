{
 "cells": [
  {
   "cell_type": "code",
   "execution_count": null,
   "metadata": {},
   "outputs": [],
   "source": [
    "Implement a function that, given an integer n, uses a specific method on it and returns the number of bits in its \n",
    "binary representation.\n",
    "\n",
    "Note: in this task and most of the following tasks you will be given a code snippet with some part of it replaced by \n",
    "the ellipsis (...). Only this part is allowed to be changed.\n",
    "\n",
    "Example\n",
    "\n",
    "For n = 50, the output should be\n",
    "countBits(n) = 6.\n",
    "\n",
    "5010 = 1100102, a number that consists of 6 digits. Thus, the output should be 6.\n",
    "\n",
    "------------------------------------------------------------------------------------------------------------------------\n",
    "\n",
    "Input/Output\n",
    "\n",
    "[execution time limit] 4 seconds (py3)\n",
    "\n",
    "[input] integer n\n",
    "\n",
    "A positive integer.\n",
    "\n",
    "Guaranteed constraints:\n",
    "1 ≤ n ≤ 109.\n",
    "\n",
    "[output] integer\n",
    "\n",
    "The number of bits in binary representation of n."
   ]
  },
  {
   "cell_type": "code",
   "execution_count": null,
   "metadata": {},
   "outputs": [],
   "source": [
    "def countBits(n):\n",
    "    return n.bit_length()"
   ]
  }
 ],
 "metadata": {
  "kernelspec": {
   "display_name": "Python 3",
   "language": "python",
   "name": "python3"
  },
  "language_info": {
   "codemirror_mode": {
    "name": "ipython",
    "version": 3
   },
   "file_extension": ".py",
   "mimetype": "text/x-python",
   "name": "python",
   "nbconvert_exporter": "python",
   "pygments_lexer": "ipython3",
   "version": "3.7.4"
  }
 },
 "nbformat": 4,
 "nbformat_minor": 2
}
