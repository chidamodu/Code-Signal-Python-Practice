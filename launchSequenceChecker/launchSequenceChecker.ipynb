{
 "cells": [
  {
   "cell_type": "code",
   "execution_count": null,
   "metadata": {},
   "outputs": [],
   "source": [
    "The master launch sequence consists of several independent sequences for different systems. Your goal is to verify \n",
    "that all the individual system sequences are in strictly increasing order. In other words, for any two elements i and \n",
    "j (i < j) of the master launch sequence that belong to the same system (having systemNames[i] = systemNames[j]), \n",
    "their values should be in strictly increasing order (i.e. stepNumbers[i] < stepNumbers[j]).\n",
    "\n",
    "Example\n",
    "\n",
    "For systemNames = [\"stage_1\", \"stage_2\", \"dragon\", \"stage_1\", \"stage_2\", \"dragon\"] and \n",
    "stepNumbers = [1, 10, 11, 2, 12, 111], the output should be launchSequenceChecker(systemNames, stepNumbers) = true.\n",
    "\n",
    "\n",
    "There are three independent sequences for systems \"stage_1\", \"stage_2\", and \"dragon\". \n",
    "These sequences are [1, 2], [10, 12], and [11, 111], respectively. The elements are in strictly increasing order for \n",
    "all three.\n",
    "\n",
    "------------------------------------------------------------------------------------------------------------------------\n",
    "\n",
    "For systemNames = [\"stage_1\", \"stage_1\", \"stage_2\", \"dragon\"] and stepNumbers = [2, 1, 12, 111], the output \n",
    "should be launchSequenceChecker(systemNames, stepNumbers) = false.\n",
    "\n",
    "\n",
    "There are three independent sequences for systems \"stage_1\", \"stage_2\", and \"dragon\". These sequences \n",
    "are [2, 1], [12], and [111], respectively. In the first sequence, the elements are not ordered properly.\n"
   ]
  },
  {
   "cell_type": "code",
   "execution_count": 29,
   "metadata": {},
   "outputs": [],
   "source": [
    "from collections import defaultdict\n",
    "def launchSequenceChecker(systemNames, stepNumbers):\n",
    "    d=defaultdict(list)\n",
    "    diff=0\n",
    "    for i in zip(systemNames, stepNumbers):\n",
    "        \n",
    "        d[i[0]].append(i[1])\n",
    "        \n",
    "    print(d)\n",
    "        \n",
    "    for v in d.values():\n",
    "        if len(v)!=1:\n",
    "            for i in range(len(v)-1):\n",
    "                if v[i]-v[i+1]>=0:\n",
    "                    return False\n",
    "                    break\n",
    "                                \n",
    "    return True\n",
    "                \n",
    "        \n",
    "        \n",
    "        \n",
    "   \n",
    "    \n"
   ]
  },
  {
   "cell_type": "code",
   "execution_count": 30,
   "metadata": {},
   "outputs": [
    {
     "name": "stdout",
     "output_type": "stream",
     "text": [
      "defaultdict(<class 'list'>, {'Dragon': [1, 3, 10, 20, 100], 'Falcon 9': [1, 2, 4, 4]})\n"
     ]
    },
    {
     "data": {
      "text/plain": [
       "False"
      ]
     },
     "execution_count": 30,
     "metadata": {},
     "output_type": "execute_result"
    }
   ],
   "source": [
    "launchSequenceChecker([\"Dragon\", \"Falcon 9\", \n",
    " \"Dragon\", \n",
    " \"Falcon 9\", \n",
    " \"Falcon 9\", \n",
    " \"Dragon\", \n",
    " \"Dragon\", \n",
    " \"Dragon\", \n",
    " \"Falcon 9\"], [1, 1, 3, 2, 4, 10, 20, 100, 4])"
   ]
  }
 ],
 "metadata": {
  "kernelspec": {
   "display_name": "Python 3",
   "language": "python",
   "name": "python3"
  },
  "language_info": {
   "codemirror_mode": {
    "name": "ipython",
    "version": 3
   },
   "file_extension": ".py",
   "mimetype": "text/x-python",
   "name": "python",
   "nbconvert_exporter": "python",
   "pygments_lexer": "ipython3",
   "version": "3.7.4"
  }
 },
 "nbformat": 4,
 "nbformat_minor": 2
}
