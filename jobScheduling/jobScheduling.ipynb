{
 "cells": [
  {
   "cell_type": "code",
   "execution_count": null,
   "metadata": {},
   "outputs": [],
   "source": [
    "Two Sigma maintains a distributed computing cluster capable of handling many different types of jobs. Some jobs are \n",
    "quite small (for instance MapReduce style jobs), but others can be larger (certain types of distributed optimization).\n",
    "\n",
    "Let's assume that the jobs are processed one by one, and if a new job request comes in when one is already being \n",
    "processed it's added to the queue. You were asked to implement a scheduling algorithm that adds jobs to the regular \n",
    "queue and pushes them through in such a way that the average wait time for all jobs in the queue is minimized. \n",
    "A new job isn't pushed through unless it minimizes the average waiting time.\n",
    "\n",
    "Assume that your program starts working at 0 seconds. A request for the ith job came at requestTimei, and let's \n",
    "assume that it takes jobProcessi seconds to process it.\n",
    "\n",
    "Find the state of your algorithm's queue timeFromStart seconds after your program started to work, assuming that all \n",
    "actions that could've happened right at this moment have already happened.\n",
    "\n",
    "Example\n",
    "\n",
    "For requestTime = [0, 5, 8, 11], jobProcess = [9, 4, 2, 1], and timeFromStart = 11\n",
    "the output should be jobScheduling(requestTime, jobProcess, timeFromStart) = [1].\n",
    "\n",
    "Here's the optimal algorithm with an average wait time of (1 + 7) / 2 = 4 seconds:\n",
    "\n",
    "0 seconds from launch: start processing request 0 (0-based);\n",
    "\n",
    "5 seconds: add request 1 to the queue;\n",
    "\n",
    "8 seconds: put request 2 at the front of the queue;\n",
    "\n",
    "9 seconds: finish processing request 0 and start processing request 2;\n",
    "\n",
    "11 seconds:\n",
    "\n",
    "put request 3 at the front of the queue;\n",
    "finish processing request 2;\n",
    "start processing request 3;\n",
    "\n",
    "12 seconds: finish processing request 3 and start processing request 1;\n",
    "\n",
    "16 seconds: finish processing request 1.\n",
    "\n",
    "Therefore, 11 seconds after the program there are only 2 not yet finished requests, 3 being processed, and 1 still \n",
    "in the queue. Thus, the answer is [1].\n",
    "\n",
    "\n"
   ]
  },
  {
   "cell_type": "code",
   "execution_count": 15,
   "metadata": {},
   "outputs": [],
   "source": [
    "\n",
    "def jobScheduling(A, P, T):\n",
    "    b = 0\n",
    "    queue = []\n",
    "\n",
    "    for t in range(T+1):\n",
    "        i = 0\n",
    "\n",
    "        for a in A:\n",
    "            if t == a:\n",
    "                queue += [P[i], i],\n",
    "                print(queue)\n",
    "            \n",
    "            i += 1\n",
    "\n",
    "        queue.sort()\n",
    "        \n",
    "        if b <= t and queue:\n",
    "            b = t + queue.pop(0)[0]\n",
    "  \n",
    "    return [x[1] for x in queue]"
   ]
  },
  {
   "cell_type": "code",
   "execution_count": 16,
   "metadata": {},
   "outputs": [
    {
     "name": "stdout",
     "output_type": "stream",
     "text": [
      "[[9, 0]]\n",
      "[[4, 1]]\n",
      "[[4, 1], [2, 2]]\n",
      "[[4, 1], [1, 3]]\n"
     ]
    },
    {
     "data": {
      "text/plain": [
       "[1]"
      ]
     },
     "execution_count": 16,
     "metadata": {},
     "output_type": "execute_result"
    }
   ],
   "source": [
    "A = [0, 5, 8, 11]#requestTime\n",
    "P= [9, 4, 2, 1]#jobProcess\n",
    "T= 11#timeFromStart\n",
    "\n",
    "\n",
    "\n",
    "jobScheduling(A, P, T)\n"
   ]
  }
 ],
 "metadata": {
  "kernelspec": {
   "display_name": "Python 3",
   "language": "python",
   "name": "python3"
  },
  "language_info": {
   "codemirror_mode": {
    "name": "ipython",
    "version": 3
   },
   "file_extension": ".py",
   "mimetype": "text/x-python",
   "name": "python",
   "nbconvert_exporter": "python",
   "pygments_lexer": "ipython3",
   "version": "3.7.4"
  }
 },
 "nbformat": 4,
 "nbformat_minor": 2
}
