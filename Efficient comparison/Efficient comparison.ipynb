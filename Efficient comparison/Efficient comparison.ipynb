{
 "cells": [
  {
   "cell_type": "code",
   "execution_count": null,
   "metadata": {},
   "outputs": [],
   "source": [
    "\n",
    "You would like to write a function that takes integer numbers x, y, L and R as parameters and returns True if xy lies \n",
    "in the interval (L, R) and False otherwise. You're considering several ways to write a conditional statement \n",
    "inside this function:\n",
    "\n",
    "if L < x ** y <= R:\n",
    "if x ** y > L and x ** y <= R:\n",
    "if x ** y in range(L + 1, R + 1):\n",
    "\n",
    "What option would be the most efficient in terms of execution time?"
   ]
  },
  {
   "cell_type": "code",
   "execution_count": null,
   "metadata": {},
   "outputs": [],
   "source": [
    "a. Options 1 and 2 are equally good (and better than option 3).\n",
    "b. Option 2 is the most optimal one.\n",
    "c. Option 1 is the most optimal one.\n",
    "d. All approaches are fine.\n",
    "e. Option 3 is the most optimal one.\n"
   ]
  },
  {
   "cell_type": "code",
   "execution_count": null,
   "metadata": {},
   "outputs": [],
   "source": [
    "Answer:\n",
    "    \n",
    "Option c: if L < x ** y <= R: is the most optimal one."
   ]
  }
 ],
 "metadata": {
  "kernelspec": {
   "display_name": "Python 3",
   "language": "python",
   "name": "python3"
  },
  "language_info": {
   "codemirror_mode": {
    "name": "ipython",
    "version": 3
   },
   "file_extension": ".py",
   "mimetype": "text/x-python",
   "name": "python",
   "nbconvert_exporter": "python",
   "pygments_lexer": "ipython3",
   "version": "3.7.4"
  }
 },
 "nbformat": 4,
 "nbformat_minor": 2
}
