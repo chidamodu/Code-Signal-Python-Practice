{
 "cells": [
  {
   "cell_type": "code",
   "execution_count": null,
   "metadata": {},
   "outputs": [],
   "source": [
    "You have a roadmap, which is the list of tasks that your team needs to complete. Each task in this list has a title, \n",
    "a start date, an end date, and a list of the people who will be working on it. You are given some queries, each of \n",
    "which contains a specific person's name and a date. For each query that is made, you need to return the list of tasks \n",
    "on which that person will be working on the date specified in the query, sorted by the tasks' end dates. If their end \n",
    "dates are equal, then sort by the tasks' titles.\n",
    "\n",
    "Example\n",
    "\n",
    "For\n",
    "\n",
    "tasks =\n",
    "[[\"A\", \"2017-02-01\", \"2017-03-01\", \"Sam\", \"Evan\", \"Troy\"],\n",
    " [\"B\", \"2017-01-16\", \"2017-02-15\", \"Troy\"],\n",
    " [\"C\", \"2017-02-13\", \"2017-03-13\", \"Sam\", \"Evan\"]]\n",
    "and\n",
    "\n",
    "queries =\n",
    "[[\"Evan\", \"2017-03-10\"],\n",
    " [\"Troy\", \"2017-02-04\"]]\n",
    "the output should be\n",
    "roadmap(tasks, queries) = [[\"C\"], [\"B\", \"A\"]].\n",
    "On \"2017-03-10\" Evan only has task \"C\".\n",
    "Troy will be working on two tasks on \"2017-02-04\", \"A\" and \"B\". We sort these tasks by their end dates. \"A\" has an end \n",
    "date of \"2017-03-01\" and \"B\" has an end date \"2017-02-15\". Since the end date for \"B\" is sooner than the end date \n",
    "for \"A\", we should return them as [\"B\", \"A\"].\n",
    "\n",
    "------------------------------------------------------------------------------------------------------------------------\n",
    "\n",
    "Input/Output\n",
    "\n",
    "[execution time limit] 4 seconds (py3)\n",
    "\n",
    "[input] array.array.string tasks\n",
    "\n",
    "A roadmap of the tasks your team is working on. Each tasks[i] describes one task: tasks[i][0] is its title, \n",
    "    tasks[i][1] is its start date, tasks[i][2] is its end date, and all tasks[i][j] with j > 2 are the names of the \n",
    "    people who will work on this task. It's guaranteed that start date is situated before end date or is equal to it. \n",
    "    Start date and end date are given in the format `\"YYYY-MM-DD\".\n",
    "\n",
    "Guaranteed constraints:\n",
    "1 ≤ tasks.length ≤ 500,\n",
    "4 ≤ tasks[i].length < 20.\n",
    "\n",
    "------------------------------------------------------------------------------------------------------------------------\n",
    "\n",
    "[input] array.array.string queries\n",
    "\n",
    "A list of queries, where each queries[i][0] is the name of a person and queries[i][1] is the date for which \n",
    "you should find the answer.\n",
    "\n",
    "Guaranteed constraints:\n",
    "1 ≤ queries.length ≤ 500,\n",
    "queries[i].length = 2.\n",
    "\n",
    "------------------------------------------------------------------------------------------------------------------------------\n",
    "\n",
    "[output] array.array.string\n",
    "\n",
    "For each query in queries, return the tasks on which the specified person will be working on the given date, \n",
    "ordered by the tasks' end dates ascendingly. If their end dates are equal, sort by the tasks' titles lexicographically.\n",
    "\n"
   ]
  },
  {
   "cell_type": "code",
   "execution_count": 398,
   "metadata": {},
   "outputs": [],
   "source": [
    "from collections import defaultdict\n",
    "def roadmap(tasks, queries):\n",
    "    result=[]\n",
    "    d=defaultdict(list)\n",
    "    d_date=defaultdict(list)\n",
    "    answer=[]\n",
    "    \n",
    "    for i in tasks:\n",
    "        d[i[0]].extend(i[3:])\n",
    "        d_date[i[0]].extend(i[1:3])\n",
    "        \n",
    "    for i in queries:\n",
    "        r1=[]\n",
    "        for k, v in d.items():\n",
    "            if i[0] in v:\n",
    "                if (i[1]>=d_date[k][0]) and (i[1]<=d_date[k][1]):                    \n",
    "                    r1.append([k, d_date[k][0], d_date[k][1]])\n",
    "\n",
    "        from operator import itemgetter\n",
    "        r1.sort(key=itemgetter(1))\n",
    "        result.append(r1)\n",
    "        \n",
    "        r2=[]\n",
    "        for i in result:\n",
    "            if len(i)>1:\n",
    "                for j in i:\n",
    "                    r2+=j[0]\n",
    "                    \n",
    "            else:\n",
    "                r2.append([result[0][0][0]])\n",
    "       \n",
    "\n",
    "    return r2\n",
    "\n"
   ]
  },
  {
   "cell_type": "code",
   "execution_count": 399,
   "metadata": {},
   "outputs": [
    {
     "data": {
      "text/plain": [
       "[['C'], 'B', 'A']"
      ]
     },
     "execution_count": 399,
     "metadata": {},
     "output_type": "execute_result"
    }
   ],
   "source": [
    "tasks =[[\"A\", \"2017-02-01\", \"2017-03-01\", \"Sam\", \"Evan\", \"Troy\"],\n",
    " [\"B\", \"2017-01-16\", \"2017-02-15\", \"Troy\"],\n",
    " [\"C\", \"2017-02-13\", \"2017-03-13\", \"Sam\", \"Evan\"]]\n",
    "\n",
    "queries =[[\"Evan\", \"2017-03-10\"],\n",
    " [\"Troy\", \"2017-02-04\"]]\n",
    "\n",
    "roadmap(tasks, queries)"
   ]
  },
  {
   "cell_type": "code",
   "execution_count": 133,
   "metadata": {},
   "outputs": [
    {
     "data": {
      "text/plain": [
       "False"
      ]
     },
     "execution_count": 133,
     "metadata": {},
     "output_type": "execute_result"
    }
   ],
   "source": [
    "\"2017-03-10\"<=\"2017-03-01\""
   ]
  },
  {
   "cell_type": "code",
   "execution_count": null,
   "metadata": {},
   "outputs": [],
   "source": []
  },
  {
   "cell_type": "code",
   "execution_count": 337,
   "metadata": {},
   "outputs": [
    {
     "data": {
      "text/plain": [
       "['B', 'A']"
      ]
     },
     "execution_count": 337,
     "metadata": {},
     "output_type": "execute_result"
    }
   ],
   "source": [
    "rf=[[['C', '2017-02-13', '2017-03-13']],[['B', '2017-01-16', '2017-02-15'], ['A', '2017-02-01', '2017-03-01']]]\n",
    "\n",
    "for i in rf:\n",
    "    r2=[]\n",
    "    if len(i)>1:\n",
    "        for j in i:\n",
    "            r2+=j[0]\n",
    "        \n",
    "r2"
   ]
  }
 ],
 "metadata": {
  "kernelspec": {
   "display_name": "Python 3",
   "language": "python",
   "name": "python3"
  },
  "language_info": {
   "codemirror_mode": {
    "name": "ipython",
    "version": 3
   },
   "file_extension": ".py",
   "mimetype": "text/x-python",
   "name": "python",
   "nbconvert_exporter": "python",
   "pygments_lexer": "ipython3",
   "version": "3.7.4"
  }
 },
 "nbformat": 4,
 "nbformat_minor": 2
}
