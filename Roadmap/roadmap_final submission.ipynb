{
 "cells": [
  {
   "cell_type": "code",
   "execution_count": null,
   "metadata": {},
   "outputs": [],
   "source": [
    "You have a roadmap, which is the list of tasks that your team needs to complete. Each task in this list has a title, \n",
    "a start date, an end date, and a list of the people who will be working on it. You are given some queries, each of \n",
    "which contains a specific person's name and a date. For each query that is made, you need to return the list of \n",
    "tasks on which that person will be working on the date specified in the query, sorted by the tasks' end dates. \n",
    "If their end dates are equal, then sort by the tasks' titles.\n",
    "\n",
    "Example\n",
    "\n",
    "For\n",
    "\n",
    "tasks =\n",
    "[[\"A\", \"2017-02-01\", \"2017-03-01\", \"Sam\", \"Evan\", \"Troy\"],\n",
    " [\"B\", \"2017-01-16\", \"2017-02-15\", \"Troy\"],\n",
    " [\"C\", \"2017-02-13\", \"2017-03-13\", \"Sam\", \"Evan\"]]\n",
    "and\n",
    "\n",
    "queries =\n",
    "[[\"Evan\", \"2017-03-10\"],\n",
    " [\"Troy\", \"2017-02-04\"]]\n",
    "\n",
    "the output should be roadmap(tasks, queries) = [[\"C\"], [\"B\", \"A\"]].\n",
    "\n",
    "On \"2017-03-10\" Evan only has task \"C\".\n",
    "\n",
    "Troy will be working on two tasks on \"2017-02-04\", \"A\" and \"B\". We sort these tasks by their end dates. \"A\" has an \n",
    "end date of \"2017-03-01\" and \"B\" has an end date \"2017-02-15\". Since the end date for \"B\" is sooner than the end date \n",
    "for \"A\", we should return them as [\"B\", \"A\"]."
   ]
  },
  {
   "cell_type": "code",
   "execution_count": 25,
   "metadata": {},
   "outputs": [],
   "source": [
    "Final submission\n",
    "\n",
    "roadmap = lambda t, q: [[a for a, b, c, *p in sorted(t, key=lambda t: (t[2], t[0])) if n in p and b <= d <= c] for n, d in q ]\n",
    "\n"
   ]
  },
  {
   "cell_type": "code",
   "execution_count": 26,
   "metadata": {},
   "outputs": [
    {
     "data": {
      "text/plain": [
       "<function __main__.<lambda>(t, q)>"
      ]
     },
     "execution_count": 26,
     "metadata": {},
     "output_type": "execute_result"
    }
   ],
   "source": [
    "roadmap"
   ]
  }
 ],
 "metadata": {
  "kernelspec": {
   "display_name": "Python 3",
   "language": "python",
   "name": "python3"
  },
  "language_info": {
   "codemirror_mode": {
    "name": "ipython",
    "version": 3
   },
   "file_extension": ".py",
   "mimetype": "text/x-python",
   "name": "python",
   "nbconvert_exporter": "python",
   "pygments_lexer": "ipython3",
   "version": "3.7.4"
  }
 },
 "nbformat": 4,
 "nbformat_minor": 2
}
