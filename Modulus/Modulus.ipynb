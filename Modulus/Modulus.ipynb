{
 "cells": [
  {
   "cell_type": "code",
   "execution_count": null,
   "metadata": {},
   "outputs": [],
   "source": [
    "It frustrates you more than you'd like to admit that the modulus operator in Python can be applied to non-integer \n",
    "values. When you write code, you expect the result of the modulus operator to always be an integer, but thanks to \n",
    "Python this isn't always the case.\n",
    "\n",
    "To fix this, you've decided to write your own modulus operator as a function. Your task is to implement a function \n",
    "that, given a number n, returns -1 if this number is not an integer and n % 2 otherwise. It is guaranteed that if the \n",
    "number represents an integer, it will be written without a decimal point.\n",
    "\n",
    "Example\n",
    "\n",
    "For n = 15, the output should be\n",
    "modulus(n) = 1;\n",
    "\n",
    "For n = 23.12, the output should be\n",
    "modulus(n) = -1.\n",
    "\n",
    "--------------------------------------------------------------------------------------------------------------------------\n",
    "\n",
    "Input/Output\n",
    "\n",
    "[execution time limit] 4 seconds (py3)\n",
    "\n",
    "[input] numeric n\n",
    "\n",
    "A non-negative number that can be an int, a float, or a long.\n",
    "\n",
    "Guaranteed constraints:\n",
    "0 ≤ n ≤ 1000.\n",
    "\n",
    "[output] integer\n",
    "\n",
    "Return n % 2 if n is an integer, otherwise return -1."
   ]
  },
  {
   "cell_type": "code",
   "execution_count": null,
   "metadata": {},
   "outputs": [],
   "source": [
    "def modulus(n):\n",
    "    if isinstance(n, int):\n",
    "        return n % 2\n",
    "    else:\n",
    "        return -1"
   ]
  }
 ],
 "metadata": {
  "kernelspec": {
   "display_name": "Python 3",
   "language": "python",
   "name": "python3"
  },
  "language_info": {
   "codemirror_mode": {
    "name": "ipython",
    "version": 3
   },
   "file_extension": ".py",
   "mimetype": "text/x-python",
   "name": "python",
   "nbconvert_exporter": "python",
   "pygments_lexer": "ipython3",
   "version": "3.7.4"
  }
 },
 "nbformat": 4,
 "nbformat_minor": 2
}
