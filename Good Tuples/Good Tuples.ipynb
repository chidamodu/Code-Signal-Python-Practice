{
 "cells": [
  {
   "cell_type": "code",
   "execution_count": null,
   "metadata": {},
   "outputs": [],
   "source": [
    "Given a list of integers, count the number of 'good tuples' that can be created. A 'good tuple' is defined as \n",
    "consecutive triplets having exactly 2 duplicate elements.\n",
    "For eg.nums = [4,4,6,1,2,2,2,3]\n",
    "\n",
    "Here good tuples are: [4,4,6], [1,2,2], [2,2,3] because here in nums[i-1], nums[i], nums[i+1] exactly 2 numbers are \n",
    "equal, however [2,2,2] isn't a good tuple because nums[i-1]==num[i]==nums[i+1].\n",
    "Count of good tuples is 3.\n",
    "\n",
    "Another example:\n",
    "nums = [4,6,4,1,3,4]\n",
    "Here there is only one good tuple: [4,6,4]. Count of good tuples is 1.\n",
    "\n"
   ]
  },
  {
   "cell_type": "code",
   "execution_count": 29,
   "metadata": {},
   "outputs": [],
   "source": [
    "def fn_name(nums):\n",
    "    \n",
    "    result_count=0\n",
    "    if len(nums)<3:\n",
    "        return 0\n",
    "    \n",
    "    for i in range(1, len(nums)-1):\n",
    "        if ((nums[i-1]==nums[i] and nums[i]!=nums[i+1]) or (nums[i-1]!=nums[i] and nums[i]==nums[i+1]) or (nums[i-1]==nums[i+1] and nums[i]!=nums[i-1])):\n",
    "#             result.append((nums[i-1], nums[i], nums[i+1]))\n",
    "            result_count+=1         \n",
    "            \n",
    "    return result_count\n",
    "            "
   ]
  },
  {
   "cell_type": "code",
   "execution_count": 30,
   "metadata": {},
   "outputs": [
    {
     "data": {
      "text/plain": [
       "1"
      ]
     },
     "execution_count": 30,
     "metadata": {},
     "output_type": "execute_result"
    }
   ],
   "source": [
    "fn_name([4,6,4,1,3,4])"
   ]
  }
 ],
 "metadata": {
  "kernelspec": {
   "display_name": "Python 3",
   "language": "python",
   "name": "python3"
  },
  "language_info": {
   "codemirror_mode": {
    "name": "ipython",
    "version": 3
   },
   "file_extension": ".py",
   "mimetype": "text/x-python",
   "name": "python",
   "nbconvert_exporter": "python",
   "pygments_lexer": "ipython3",
   "version": "3.7.4"
  }
 },
 "nbformat": 4,
 "nbformat_minor": 2
}
