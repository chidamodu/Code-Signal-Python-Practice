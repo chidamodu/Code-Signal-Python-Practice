{
 "cells": [
  {
   "cell_type": "code",
   "execution_count": null,
   "metadata": {},
   "outputs": [],
   "source": [
    "You've just started to study impartial games, and came across an interesting theory. The theory is quite complicated, \n",
    "but it can be narrowed down to the following statements: solutions to all such games can be found with the mex \n",
    "    function. Mex is an abbreviation of minimum excludant: for the given set s it finds the minimum non-negative \n",
    "        integer that is not present in s.\n",
    "\n",
    "You don't yet know how to implement such a function efficiently, so would like to create a simplified version. \n",
    "For the given set s and given an upperBound, implement a function that will find its mex if it's smaller than \n",
    "upperBound or return upperBound instead.\n",
    "\n",
    "Hint: for loops also have an else clause which executes when the loop completes normally, i.e. without \n",
    "encountering any breaks\n",
    "\n",
    "Example\n",
    "\n",
    "For s = [0, 4, 2, 3, 1, 7] and upperBound = 10,\n",
    "the output should be\n",
    "mexFunction(s, upperBound) = 5.\n",
    "\n",
    "5 is the smallest non-negative integer that is not present in s, and it is smaller than upperBound.\n",
    "\n",
    "For s = [0, 4, 2, 3, 1, 7] and upperBound = 3,\n",
    "the output should be\n",
    "mexFunction(s, upperBound) = 3.\n",
    "\n",
    "The minimum excludant for the given set is 5, but it's greater than upperBound, so the output should be 3.\n",
    "\n",
    "-----------------------------------------------------------------------------------------------------------------------------\n",
    "\n",
    "Input/Output\n",
    "\n",
    "[execution time limit] 4 seconds (py3)\n",
    "\n",
    "[input] array.integer s\n",
    "\n",
    "Array of distinct non-negative integers.\n",
    "\n",
    "Guaranteed constraints:\n",
    "0 ≤ s.length ≤ 100,\n",
    "0 ≤ s[i] ≤ 100.\n",
    "\n",
    "[input] integer upperBound\n",
    "\n",
    "A positive integer.\n",
    "\n",
    "Guaranteed constraints:\n",
    "1 ≤ upperBound ≤ 100.\n",
    "\n",
    "[output] integer\n",
    "\n",
    "Mex of s if it's smaller than upperBound, or upperBound instead."
   ]
  },
  {
   "cell_type": "code",
   "execution_count": null,
   "metadata": {},
   "outputs": [],
   "source": [
    "def mexFunction(s, upperBound):\n",
    "    found = -1\n",
    "    for i in range(upperBound):\n",
    "        if not i in s:\n",
    "            found = i\n",
    "            break\n",
    "    else:\n",
    "        return upperBound\n",
    "\n",
    "    return found"
   ]
  }
 ],
 "metadata": {
  "kernelspec": {
   "display_name": "Python 3",
   "language": "python",
   "name": "python3"
  },
  "language_info": {
   "codemirror_mode": {
    "name": "ipython",
    "version": 3
   },
   "file_extension": ".py",
   "mimetype": "text/x-python",
   "name": "python",
   "nbconvert_exporter": "python",
   "pygments_lexer": "ipython3",
   "version": "3.7.4"
  }
 },
 "nbformat": 4,
 "nbformat_minor": 2
}
