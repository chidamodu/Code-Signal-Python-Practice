{
 "cells": [
  {
   "cell_type": "code",
   "execution_count": null,
   "metadata": {},
   "outputs": [],
   "source": [
    "You found an awesome customizable Python IDE that has almost everything you'd like to see in your working environment. \n",
    "However, after a couple days of coding you discover that there is one important feature that this IDE lacks: it \n",
    "cannot convert tabs to spaces. Luckily, the IDE is easily customizable, so you decide to write a plugin that would \n",
    "convert all tabs in the code into the given number of whitespace characters.\n",
    "\n",
    "Implement a function that, given a piece of code and a positive integer x will turn each tabulation character in code \n",
    "into x whitespace characters.\n",
    "\n",
    "Example\n",
    "\n",
    "For code = \"\\treturn False\" and x = 4, the output should be\n",
    "\n",
    "convertTabs(code, x) = \"    return False\""
   ]
  },
  {
   "cell_type": "code",
   "execution_count": 3,
   "metadata": {},
   "outputs": [],
   "source": [
    "\n",
    "def convertTabs(code, x):\n",
    "    return code.replace(\"\\t\", x*\" \")\n"
   ]
  },
  {
   "cell_type": "code",
   "execution_count": 4,
   "metadata": {},
   "outputs": [
    {
     "data": {
      "text/plain": [
       "'    return False'"
      ]
     },
     "execution_count": 4,
     "metadata": {},
     "output_type": "execute_result"
    }
   ],
   "source": [
    "convertTabs(code = \"\\treturn False\", x = 4)"
   ]
  }
 ],
 "metadata": {
  "kernelspec": {
   "display_name": "Python 3",
   "language": "python",
   "name": "python3"
  },
  "language_info": {
   "codemirror_mode": {
    "name": "ipython",
    "version": 3
   },
   "file_extension": ".py",
   "mimetype": "text/x-python",
   "name": "python",
   "nbconvert_exporter": "python",
   "pygments_lexer": "ipython3",
   "version": "3.7.4"
  }
 },
 "nbformat": 4,
 "nbformat_minor": 2
}
