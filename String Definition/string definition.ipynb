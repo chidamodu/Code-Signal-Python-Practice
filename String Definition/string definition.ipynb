{
 "cells": [
  {
   "cell_type": "code",
   "execution_count": null,
   "metadata": {},
   "outputs": [],
   "source": [
    "Which of the given string definitions are incorrect?\n",
    "\n",
    "1. s='abacaba'\n",
    "2. s=\"abacaba\"\n",
    "3. s=''abacaba''\n",
    "4. s=\"\"abacaba\"\"\n",
    "5. s='''abacaba'''\n",
    "6. s=\"\"\"abacaba\"\"\"\n"
   ]
  },
  {
   "cell_type": "code",
   "execution_count": 2,
   "metadata": {},
   "outputs": [],
   "source": [
    "Answer: definitions 3 and 4"
   ]
  }
 ],
 "metadata": {
  "kernelspec": {
   "display_name": "Python 3",
   "language": "python",
   "name": "python3"
  },
  "language_info": {
   "codemirror_mode": {
    "name": "ipython",
    "version": 3
   },
   "file_extension": ".py",
   "mimetype": "text/x-python",
   "name": "python",
   "nbconvert_exporter": "python",
   "pygments_lexer": "ipython3",
   "version": "3.7.4"
  }
 },
 "nbformat": 4,
 "nbformat_minor": 2
}
