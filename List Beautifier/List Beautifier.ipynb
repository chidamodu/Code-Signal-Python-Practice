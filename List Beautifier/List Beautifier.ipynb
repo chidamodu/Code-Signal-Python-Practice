{
 "cells": [
  {
   "cell_type": "code",
   "execution_count": null,
   "metadata": {},
   "outputs": [],
   "source": [
    "Let's call a list beautiful if its first element is equal to its last element, or if a list is empty. Given a list a, \n",
    "your task is to chop off its first and its last element until it becomes beautiful. Implement a function that will \n",
    "make the given a beautiful as described, and return the resulting list as an answer.\n",
    "\n",
    "Hint: one of the features introduced in Python 3 called extended unpacking could help here.\n",
    "\n",
    "Example\n",
    "For a = [3, 4, 2, 4, 38, 4, 5, 3, 2], the output should be\n",
    "listBeautifier(a) = [4, 38, 4].\n",
    "\n",
    "Here's how the answer is obtained:\n",
    "[3, 4, 2, 4, 38, 4, 5, 3, 2] => [4, 2, 4, 38, 4, 5, 3] => [2, 4, 38, 4, 5] => [4, 38, 4].\n",
    "\n",
    "For a = [1, 4, -5], the output should be\n",
    "listBeautifier(a) = [4].\n",
    "\n",
    "Input/Output\n",
    "[execution time limit] 4 seconds (py3)\n",
    "\n",
    "[input] array.integer a\n",
    "\n",
    "A list of integers.\n",
    "\n",
    "Guaranteed constraints:\n",
    "0 ≤ a.length ≤ 50,\n",
    "1 ≤ a[i] ≤ 100.\n",
    "\n",
    "[output] array.integer\n",
    "\n",
    "A beautiful list obtained as described above.\n",
    "\n",
    "[Python 3] Syntax Tips\n",
    "\n",
    "# Prints help message to the console\n",
    "# Returns a string\n",
    "def helloWorld(name):\n",
    "    print(\"This prints to the console when you Run Tests\")\n",
    "    return \"Hello, \" + name\n"
   ]
  },
  {
   "cell_type": "code",
   "execution_count": 11,
   "metadata": {},
   "outputs": [],
   "source": [
    "def listBeautifier(a):\n",
    "    res = a[:]\n",
    "    while res and res[0] != res[-1]:\n",
    "        a, *res, temp = res\n",
    "        print(res)\n",
    "    return res\n"
   ]
  },
  {
   "cell_type": "code",
   "execution_count": 12,
   "metadata": {},
   "outputs": [
    {
     "name": "stdout",
     "output_type": "stream",
     "text": [
      "[4, 2, 4, 38, 4, 5, 3]\n",
      "[2, 4, 38, 4, 5]\n",
      "[4, 38, 4]\n"
     ]
    },
    {
     "data": {
      "text/plain": [
       "[4, 38, 4]"
      ]
     },
     "execution_count": 12,
     "metadata": {},
     "output_type": "execute_result"
    }
   ],
   "source": [
    "listBeautifier(a = [3, 4, 2, 4, 38, 4, 5, 3, 2])"
   ]
  },
  {
   "cell_type": "code",
   "execution_count": null,
   "metadata": {},
   "outputs": [],
   "source": [
    "Alternative solution\n",
    "\n",
    "def listBeautifier(a):\n",
    "    res = a[:]\n",
    "    while res and res[0] != res[-1]:\n",
    "        res=res[1:-1]# = res\n",
    "    return res"
   ]
  }
 ],
 "metadata": {
  "kernelspec": {
   "display_name": "Python 3",
   "language": "python",
   "name": "python3"
  },
  "language_info": {
   "codemirror_mode": {
    "name": "ipython",
    "version": 3
   },
   "file_extension": ".py",
   "mimetype": "text/x-python",
   "name": "python",
   "nbconvert_exporter": "python",
   "pygments_lexer": "ipython3",
   "version": "3.7.4"
  }
 },
 "nbformat": 4,
 "nbformat_minor": 2
}
