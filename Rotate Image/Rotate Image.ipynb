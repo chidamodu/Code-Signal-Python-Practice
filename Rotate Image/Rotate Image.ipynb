{
 "cells": [
  {
   "cell_type": "code",
   "execution_count": null,
   "metadata": {},
   "outputs": [],
   "source": [
    "Note: Try to solve this task in-place (with O(1) additional memory), since this is what you'll be asked to do during \n",
    "an interview.\n",
    "\n",
    "You are given an n x n 2D matrix that represents an image. Rotate the image by 90 degrees (clockwise).\n",
    "\n",
    "Example\n",
    "\n",
    "For\n",
    "\n",
    "a = [[1, 2, 3],\n",
    "     [4, 5, 6],\n",
    "     [7, 8, 9]]\n",
    "\n",
    "the output should be\n",
    "\n",
    "rotateImage(a) =\n",
    "    [[7, 4, 1],\n",
    "     [8, 5, 2],\n",
    "     [9, 6, 3]]\n"
   ]
  },
  {
   "cell_type": "code",
   "execution_count": 4,
   "metadata": {},
   "outputs": [],
   "source": [
    "def rotateImage(a):\n",
    "    row=len(a)\n",
    "    col=row\n",
    "    \n",
    "    #first transpose the matrix\n",
    "    for i in range(row):\n",
    "        for j in range(i, col):\n",
    "            temp=a[i][j]\n",
    "            a[i][j]=a[j][i]\n",
    "            a[j][i]=temp\n",
    "#     print(a)\n",
    "    \n",
    "    #swap the values\n",
    "    for i in range(row):\n",
    "        for j in range(col//2):\n",
    "            temp=a[i][j]\n",
    "            a[i][j]=a[i][col-1-j]\n",
    "            a[i][col-1-j]=temp\n",
    "            \n",
    "#     print(a)\n",
    "    \n",
    "    return a"
   ]
  },
  {
   "cell_type": "code",
   "execution_count": 5,
   "metadata": {},
   "outputs": [
    {
     "data": {
      "text/plain": [
       "[[7, 4, 1], [8, 5, 2], [9, 6, 3]]"
      ]
     },
     "execution_count": 5,
     "metadata": {},
     "output_type": "execute_result"
    }
   ],
   "source": [
    "a = [[1, 2, 3],\n",
    "     [4, 5, 6],\n",
    "     [7, 8, 9]]\n",
    "\n",
    "rotateImage(a)"
   ]
  },
  {
   "cell_type": "code",
   "execution_count": null,
   "metadata": {},
   "outputs": [],
   "source": []
  }
 ],
 "metadata": {
  "kernelspec": {
   "display_name": "Python 3",
   "language": "python",
   "name": "python3"
  },
  "language_info": {
   "codemirror_mode": {
    "name": "ipython",
    "version": 3
   },
   "file_extension": ".py",
   "mimetype": "text/x-python",
   "name": "python",
   "nbconvert_exporter": "python",
   "pygments_lexer": "ipython3",
   "version": "3.7.4"
  }
 },
 "nbformat": 4,
 "nbformat_minor": 2
}
