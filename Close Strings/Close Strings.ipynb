{
 "cells": [
  {
   "cell_type": "code",
   "execution_count": null,
   "metadata": {},
   "outputs": [],
   "source": [
    "We will consider two strings close if one can be obtained from the other, using the following operations:\n",
    "\n",
    "swap any two symbols in one of the strings,\n",
    "swap occurrences of any two existing symbols in one of the strings \n",
    "(for example, if your string contains both as and \n",
    "bs, you can change all as to bs and all the bs to as).\n",
    "\n",
    "Now you want to write a method that finds out whether the given strings are considered close, by the definition above.\n",
    "\n",
    "Example\n",
    "\n",
    "For A = \"abbzccc\" and B = \"babzzcz\", the output should be\n",
    "closeNames(A, B) = true.\n",
    "\n",
    "One possible way to transform \"abbzccc\" to \"babzzcz\" is this:\n",
    "\n",
    "\"abbzccc\" (this string is className)\n",
    "\"babzccc\" (swap positions of the first two characters)\n",
    "\"babczzz\" (switch all c and z characters)\n",
    "\"babzzcz\" (swap positions of the characters at indices 3 and 5; this string is now methodName)\n",
    "\n",
    "For A = \"abcbdb\" and B = \"bbbcca\", the output should be closeNames(A, B) = false."
   ]
  },
  {
   "cell_type": "code",
   "execution_count": 1,
   "metadata": {},
   "outputs": [],
   "source": [
    "from collections import Counter\n",
    "def classNames( A, B):\n",
    "    # count characters\n",
    "    dictA = Counter(A)\n",
    "    dictB = Counter(B)\n",
    "\n",
    "    # we can't add new characters, only swap\n",
    "    if dictA.keys() != dictB.keys() or len(A) != len(B):\n",
    "        return False\n",
    "\n",
    "    # we can always do single swap of one char to another char for correct location\n",
    "    # so we only need to check if we can count same or not\n",
    "    for char in dictA.keys():\n",
    "        if dictA[char] != dictB[char]:\n",
    "            # can we make char count swap, so count for this char in A become equal to B\n",
    "            for charswap, valswap in dictA.items():\n",
    "                if  valswap == dictB[char]:\n",
    "                    dictA[char], dictA[charswap] = dictA[charswap], dictA[char]\n",
    "                    break\n",
    "            # swap failed\n",
    "            if dictA[char] != dictB[char]: return False\n",
    "        # making zero, so in future we don't use this for swap\n",
    "        dictA[char] = 0\n",
    "    return True\n",
    "\n"
   ]
  },
  {
   "cell_type": "code",
   "execution_count": 2,
   "metadata": {},
   "outputs": [
    {
     "name": "stdout",
     "output_type": "stream",
     "text": [
      "True\n"
     ]
    }
   ],
   "source": [
    "print(classNames(\"abbzccc\", \"babzzcz\")) # True\n"
   ]
  },
  {
   "cell_type": "code",
   "execution_count": 3,
   "metadata": {},
   "outputs": [
    {
     "name": "stdout",
     "output_type": "stream",
     "text": [
      "True\n"
     ]
    }
   ],
   "source": [
    "print(classNames(\"abbbzcc\", \"babzzcz\")) # True\n"
   ]
  },
  {
   "cell_type": "code",
   "execution_count": 4,
   "metadata": {},
   "outputs": [
    {
     "name": "stdout",
     "output_type": "stream",
     "text": [
      "False\n"
     ]
    }
   ],
   "source": [
    "print(classNames(\"abbbzcf\", \"babzzcz\")) # False\n"
   ]
  },
  {
   "cell_type": "code",
   "execution_count": 5,
   "metadata": {},
   "outputs": [
    {
     "name": "stdout",
     "output_type": "stream",
     "text": [
      "False\n"
     ]
    }
   ],
   "source": [
    "print(classNames(\"abbzzca\", \"babzzcz\")) # False"
   ]
  }
 ],
 "metadata": {
  "kernelspec": {
   "display_name": "Python 3",
   "language": "python",
   "name": "python3"
  },
  "language_info": {
   "codemirror_mode": {
    "name": "ipython",
    "version": 3
   },
   "file_extension": ".py",
   "mimetype": "text/x-python",
   "name": "python",
   "nbconvert_exporter": "python",
   "pygments_lexer": "ipython3",
   "version": "3.7.4"
  }
 },
 "nbformat": 4,
 "nbformat_minor": 2
}
