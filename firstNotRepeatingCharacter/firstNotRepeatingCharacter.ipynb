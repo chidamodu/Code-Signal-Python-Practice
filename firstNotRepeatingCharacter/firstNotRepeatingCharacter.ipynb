{
 "cells": [
  {
   "cell_type": "code",
   "execution_count": null,
   "metadata": {},
   "outputs": [],
   "source": [
    "Given a string s consisting of small English letters, find and return the first instance of a non-repeating character \n",
    "in it. If there is no such character, return '_'.\n",
    "\n",
    "Example\n",
    "For s = \"abacabad\", the output should be\n",
    "firstNotRepeatingCharacter(s) = 'c'.\n",
    "\n",
    "There are 2 non-repeating characters in the string: 'c' and 'd'. Return c since it appears in the string first.\n",
    "\n",
    "For s = \"abacabaabacaba\", the output should be\n",
    "firstNotRepeatingCharacter(s) = '_'.\n",
    "\n",
    "There are no characters in this string that do not repeat.\n",
    "\n",
    "Input/Output\n",
    "\n",
    "[execution time limit] 3 seconds (java)\n",
    "------------------------------------------------------------------------------------------------------------------\n",
    "\n",
    "[input] string s\n",
    "\n",
    "A string that contains only lowercase English letters.\n",
    "\n",
    "Guaranteed constraints:\n",
    "1 ≤ s.length ≤ 105.\n",
    "\n",
    "------------------------------------------------------------------------------------------------------------------\n",
    "[output] char\n",
    "\n",
    "The first non-repeating character in s, or '_' if there are no characters that do not repeat.\n",
    "\n"
   ]
  },
  {
   "cell_type": "code",
   "execution_count": 11,
   "metadata": {},
   "outputs": [],
   "source": [
    "from collections import deque\n",
    "\n",
    "def firstNotRepeatingCharacter(s):\n",
    "    d=deque()\n",
    "    \n",
    "    for i in s:\n",
    "        if i in d:\n",
    "            d.remove(i)\n",
    "        else:\n",
    "            d.append(i)\n",
    "            \n",
    "    return d.popleft() if d else '-'\n",
    "        \n",
    "  \n",
    "Time complexity: O(N)\n",
    "Space complexity: O(N) in worst case\n",
    "Space complexity: O(1) in best case"
   ]
  },
  {
   "cell_type": "code",
   "execution_count": 12,
   "metadata": {},
   "outputs": [
    {
     "data": {
      "text/plain": [
       "'-'"
      ]
     },
     "execution_count": 12,
     "metadata": {},
     "output_type": "execute_result"
    }
   ],
   "source": [
    "firstNotRepeatingCharacter(\"abacabaabacaba\")"
   ]
  }
 ],
 "metadata": {
  "kernelspec": {
   "display_name": "Python 3",
   "language": "python",
   "name": "python3"
  },
  "language_info": {
   "codemirror_mode": {
    "name": "ipython",
    "version": 3
   },
   "file_extension": ".py",
   "mimetype": "text/x-python",
   "name": "python",
   "nbconvert_exporter": "python",
   "pygments_lexer": "ipython3",
   "version": "3.7.4"
  }
 },
 "nbformat": 4,
 "nbformat_minor": 2
}
