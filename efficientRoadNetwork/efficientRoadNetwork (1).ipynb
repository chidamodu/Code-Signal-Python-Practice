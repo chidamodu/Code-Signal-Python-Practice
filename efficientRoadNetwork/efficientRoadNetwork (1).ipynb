{
 "cells": [
  {
   "cell_type": "code",
   "execution_count": null,
   "metadata": {},
   "outputs": [],
   "source": [
    "Once upon a time, in a kingdom far, far away, there lived a King Byteasar III. As a smart and educated ruler, he did \n",
    "everything in his (unlimited) power to make every single system within his kingdom efficient. The king went down in \n",
    "history as a great road builder: during his reign a great number of roads were built, and the road system he created \n",
    "    was the most efficient during those dark times.\n",
    "\n",
    "When you started learning about Byteasar's III deeds in your history classes, a creeping doubt crawled into the back \n",
    "of your mind: what if the famous king wasn't so great after all? According to the most recent studies, there were n \n",
    "cities in Byteasar's kingdom, connected by two-way roads. You managed to get information about these roads from \n",
    "the university library, so now you can write a function that will determine whether the road system in Byteasar's \n",
    "kingdom was efficient or not.\n",
    "\n",
    "A road system is considered efficient if it is possible to travel from any city to any other city by traversing at \n",
    "most 2 roads.\n",
    "\n",
    "Example\n",
    "\n",
    "For n = 6 and\n",
    "\n",
    "roads = [[3, 0], [0, 4], [5, 0], [2, 1],\n",
    "          [1, 4], [2, 3], [5, 2]]\n",
    "the output should be efficientRoadNetwork(n, roads) = true.\n",
    "\n",
    "-----------------------------------------------------------------------------------------------------------------------\n",
    "\n",
    "Here's how the road system can be represented:\n",
    "\n",
    "For n = 6 and\n",
    "\n",
    "roads = [[0, 4], [5, 0], [2, 1],\n",
    "          [1, 4], [2, 3], [5, 2]]\n",
    "the output should be efficientRoadNetwork(n, roads) = false.\n",
    "\n",
    "Here's how the road system can be represented:\n",
    "\n",
    "\n",
    "As you can see, it's only possible to travel from city 3 to city 4 by traversing at least 3 roads.\n",
    "\n"
   ]
  },
  {
   "cell_type": "code",
   "execution_count": 27,
   "metadata": {},
   "outputs": [],
   "source": [
    "Trial\n",
    "\n",
    "def efficientRoadNetwork(n, roads):\n",
    "\n",
    "    city=set()\n",
    "    \n",
    "    for i, j in roads:\n",
    "        city.add(i)\n",
    "        if j not in city:\n",
    "            city.add(j)\n",
    "            \n",
    "    for c in city:\n",
    "        print(c)\n",
    "        \n",
    "#     return city\n",
    "        \n",
    "    "
   ]
  },
  {
   "cell_type": "code",
   "execution_count": 28,
   "metadata": {},
   "outputs": [],
   "source": [
    "n = 6\n",
    "\n",
    "roads = [[3, 0], [0, 4], [5, 0], [2, 1],[1, 4], [2, 3], [5, 2]]\n"
   ]
  },
  {
   "cell_type": "code",
   "execution_count": 29,
   "metadata": {},
   "outputs": [
    {
     "name": "stdout",
     "output_type": "stream",
     "text": [
      "0\n",
      "1\n",
      "2\n",
      "3\n",
      "4\n",
      "5\n"
     ]
    }
   ],
   "source": [
    "efficientRoadNetwork(n, roads)"
   ]
  },
  {
   "cell_type": "code",
   "execution_count": 60,
   "metadata": {},
   "outputs": [],
   "source": [
    "import numpy as np\n",
    "def efficientRoadNetwork(n, roads):\n",
    "    A = [ 0 ] * n\n",
    "    for x,y in roads:\n",
    "        w = 1 << x | 1 << y\n",
    "        A[x] |= w\n",
    "        A[y] |= w\n",
    "    return all(x & y for x in A for y in A) or n == 1\n",
    "        "
   ]
  },
  {
   "cell_type": "code",
   "execution_count": 61,
   "metadata": {},
   "outputs": [
    {
     "data": {
      "text/plain": [
       "True"
      ]
     },
     "execution_count": 61,
     "metadata": {},
     "output_type": "execute_result"
    }
   ],
   "source": [
    "n = 6\n",
    "\n",
    "roads = [[3, 0], [0, 4], [5, 0], [2, 1],[1, 4], [2, 3], [5, 2]]\n",
    "\n",
    "\n",
    "efficientRoadNetwork(n, roads)"
   ]
  }
 ],
 "metadata": {
  "kernelspec": {
   "display_name": "Python 3",
   "language": "python",
   "name": "python3"
  },
  "language_info": {
   "codemirror_mode": {
    "name": "ipython",
    "version": 3
   },
   "file_extension": ".py",
   "mimetype": "text/x-python",
   "name": "python",
   "nbconvert_exporter": "python",
   "pygments_lexer": "ipython3",
   "version": "3.7.4"
  }
 },
 "nbformat": 4,
 "nbformat_minor": 2
}
