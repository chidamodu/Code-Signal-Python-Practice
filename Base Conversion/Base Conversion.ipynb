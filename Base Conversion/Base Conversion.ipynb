{
 "cells": [
  {
   "cell_type": "code",
   "execution_count": null,
   "metadata": {},
   "outputs": [],
   "source": [
    "Your university professor decided to have a little fun and asked the class to implement a function that, given a \n",
    "number n and a base x, converts the number from base x to base 16. To make things more interesting, he announced that \n",
    "the first student to write the solution will have to answer fewer question than the rest of the class during the \n",
    "final exam.\n",
    "\n",
    "Laughing devilishly, you asked if it was okay to use a language of your choice, and the unsuspecting professor \n",
    "answered \"yes\". It's settled then: Python is your language of choice!\n",
    "\n",
    "Now you're bound to win. Implement a function that, given an integer number n and a base x, converts n from base x to \n",
    "base 16.\n",
    "\n",
    "Example\n",
    "\n",
    "For n = \"1302\" and x = 5, the output should be\n",
    "baseConversion(n, x) = \"ca\".\n",
    "\n",
    "Here's why:\n",
    "13025 = 20210 = ca16.\n",
    "\n",
    "------------------------------------------------------------------------------------------------------------------------\n",
    "\n",
    "Input/Output\n",
    "\n",
    "[execution time limit] 4 seconds (py3)\n",
    "\n",
    "[input] string n\n",
    "\n",
    "A valid non-negative integer in base x. The string is guaranteed to consist of digits and lowercase English letters.\n",
    "\n",
    "Guaranteed constraints:\n",
    "1 < n.length ≤ 10.\n",
    "\n",
    "[input] integer x\n",
    "\n",
    "The base of n.\n",
    "\n",
    "Guaranteed constraints:\n",
    "2 ≤ x ≤ 36.\n",
    "\n",
    "[output] string\n",
    "\n",
    "The value of n in base 16. The string should contain only digits and lowercase English letters 'a' - 'f'."
   ]
  },
  {
   "cell_type": "code",
   "execution_count": null,
   "metadata": {},
   "outputs": [],
   "source": [
    "\n",
    "def baseConversion(n, x):\n",
    "    return hex(int(n, x))[2:]\n"
   ]
  },
  {
   "cell_type": "code",
   "execution_count": null,
   "metadata": {},
   "outputs": [],
   "source": [
    "what hex() function does?\n",
    "\n",
    "hex(x)\n",
    "Convert an integer number to a lowercase hexadecimal string prefixed with “0x”. If x is not a Python int object, it \n",
    "has to define an __index__() method that returns an integer. Some examples:\n",
    "\n",
    ">>>hex(255)\n",
    "'0xff'\n",
    "\n",
    ">>>hex(-42)\n",
    "'-0x2a'"
   ]
  }
 ],
 "metadata": {
  "kernelspec": {
   "display_name": "Python 3",
   "language": "python",
   "name": "python3"
  },
  "language_info": {
   "codemirror_mode": {
    "name": "ipython",
    "version": 3
   },
   "file_extension": ".py",
   "mimetype": "text/x-python",
   "name": "python",
   "nbconvert_exporter": "python",
   "pygments_lexer": "ipython3",
   "version": "3.7.4"
  }
 },
 "nbformat": 4,
 "nbformat_minor": 2
}
