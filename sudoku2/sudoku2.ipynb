{
 "cells": [
  {
   "cell_type": "code",
   "execution_count": null,
   "metadata": {},
   "outputs": [],
   "source": [
    "Sudoku is a number-placement puzzle. The objective is to fill a 9 × 9 grid with numbers in such a way that each column,\n",
    "each row, and each of the nine 3 × 3 sub-grids that compose the grid all contain all of the numbers from 1 to 9 one \n",
    "time.\n",
    "\n",
    "Implement an algorithm that will check whether the given grid of numbers represents a valid Sudoku puzzle according to \n",
    "the layout rules described above. Note that the puzzle represented by grid does not have to be solvable.\n",
    "\n",
    "Example\n",
    "\n",
    "For\n",
    "\n",
    "grid = [['.', '.', '.', '1', '4', '.', '.', '2', '.'],\n",
    "        ['.', '.', '6', '.', '.', '.', '.', '.', '.'],\n",
    "        ['.', '.', '.', '.', '.', '.', '.', '.', '.'],\n",
    "        ['.', '.', '1', '.', '.', '.', '.', '.', '.'],\n",
    "        ['.', '6', '7', '.', '.', '.', '.', '.', '9'],\n",
    "        ['.', '.', '.', '.', '.', '.', '8', '1', '.'],\n",
    "        ['.', '3', '.', '.', '.', '.', '.', '.', '6'],\n",
    "        ['.', '.', '.', '.', '.', '7', '.', '.', '.'],\n",
    "        ['.', '.', '.', '5', '.', '.', '.', '7', '.']]\n",
    "\n",
    "the output should be\n",
    "sudoku2(grid) = true;\n",
    "----------------------------------------------------------------------------------------------------------------------------------------\n",
    "For\n",
    "\n",
    "grid = [['.', '.', '.', '.', '2', '.', '.', '9', '.'],\n",
    "        ['.', '.', '.', '.', '6', '.', '.', '.', '.'],\n",
    "        ['7', '1', '.', '.', '7', '5', '.', '.', '.'],\n",
    "        ['.', '7', '.', '.', '.', '.', '.', '.', '.'],\n",
    "        ['.', '.', '.', '.', '8', '3', '.', '.', '.'],\n",
    "        ['.', '.', '8', '.', '.', '7', '.', '6', '.'],\n",
    "        ['.', '.', '.', '.', '.', '2', '.', '.', '.'],\n",
    "        ['.', '1', '.', '2', '.', '.', '.', '.', '.'],\n",
    "        ['.', '2', '.', '.', '3', '.', '.', '.', '.']]\n",
    "the output should be\n",
    "sudoku2(grid) = false.\n",
    "\n",
    "The given grid is not correct because there are two 1s in the second column. Each column, each row, and each 3 × 3 \n",
    "subgrid can only contain the numbers 1 through 9 one time."
   ]
  },
  {
   "cell_type": "code",
   "execution_count": null,
   "metadata": {},
   "outputs": [],
   "source": [
    "----------------------------------------------------------------------------------------------------------------------------------------"
   ]
  },
  {
   "cell_type": "code",
   "execution_count": 71,
   "metadata": {},
   "outputs": [],
   "source": [
    "Submission solution\n",
    "\n",
    "def sudoku2(grid):\n",
    "    seen = {}\n",
    "    for i in range(9):\n",
    "        for j in range(9):\n",
    "            current_val = grid[i][j]\n",
    "            if current_val != '.':\n",
    "                if 'row'+str(i)+str(current_val) in seen or 'col'+str(j)+str(current_val) in seen or 'box'+str(i//3)+str(j//3)+str(current_val) in seen:\n",
    "                    print(seen)\n",
    "                    return False\n",
    "                seen['row'+str(i)+str(current_val)] = 1 \n",
    "                seen['col'+str(j)+str(current_val)] = 1\n",
    "                seen['box'+str(i//3)+str(j//3)+str(current_val)] = 1\n",
    "                \n",
    "    print(seen)\n",
    "    return True"
   ]
  },
  {
   "cell_type": "code",
   "execution_count": 72,
   "metadata": {},
   "outputs": [],
   "source": [
    "grid = [['.', '.', '.', '1', '4', '.', '.', '2', '.'],\n",
    "        ['.', '.', '6', '.', '.', '.', '.', '.', '.'],\n",
    "        ['.', '.', '.', '.', '.', '.', '.', '.', '.'],\n",
    "        ['.', '.', '1', '.', '.', '.', '.', '.', '.'],\n",
    "        ['.', '6', '7', '.', '.', '.', '.', '.', '9'],\n",
    "        ['.', '.', '.', '.', '.', '.', '8', '1', '.'],\n",
    "        ['.', '3', '.', '.', '.', '.', '.', '.', '6'],\n",
    "        ['.', '.', '.', '.', '.', '7', '.', '.', '.'],\n",
    "        ['.', '.', '.', '5', '.', '.', '.', '7', '.']]"
   ]
  },
  {
   "cell_type": "code",
   "execution_count": 73,
   "metadata": {},
   "outputs": [
    {
     "name": "stdout",
     "output_type": "stream",
     "text": [
      "{'row01': 1, 'col31': 1, 'box011': 1, 'row04': 1, 'col44': 1, 'box014': 1, 'row02': 1, 'col72': 1, 'box022': 1, 'row16': 1, 'col26': 1, 'box006': 1, 'row31': 1, 'col21': 1, 'box101': 1, 'row46': 1, 'col16': 1, 'box106': 1, 'row47': 1, 'col27': 1, 'box107': 1, 'row49': 1, 'col89': 1, 'box129': 1, 'row58': 1, 'col68': 1, 'box128': 1, 'row51': 1, 'col71': 1, 'box121': 1, 'row63': 1, 'col13': 1, 'box203': 1, 'row66': 1, 'col86': 1, 'box226': 1, 'row77': 1, 'col57': 1, 'box217': 1, 'row85': 1, 'col35': 1, 'box215': 1, 'row87': 1, 'col77': 1, 'box227': 1}\n"
     ]
    },
    {
     "data": {
      "text/plain": [
       "True"
      ]
     },
     "execution_count": 73,
     "metadata": {},
     "output_type": "execute_result"
    }
   ],
   "source": [
    "sudoku2(grid)"
   ]
  },
  {
   "cell_type": "code",
   "execution_count": 53,
   "metadata": {},
   "outputs": [],
   "source": [
    "grid = [['.', '.', '.', '.', '2', '.', '.', '9', '.'],\n",
    "        ['.', '.', '.', '.', '6', '.', '.', '.', '.'],\n",
    "        ['7', '1', '.', '.', '7', '5', '.', '.', '.'],\n",
    "        ['.', '7', '.', '.', '.', '.', '.', '.', '.'],\n",
    "        ['.', '.', '.', '.', '8', '3', '.', '.', '.'],\n",
    "        ['.', '.', '8', '.', '.', '7', '.', '6', '.'],\n",
    "        ['.', '.', '.', '.', '.', '2', '.', '.', '.'],\n",
    "        ['.', '1', '.', '2', '.', '.', '.', '.', '.'],\n",
    "        ['.', '2', '.', '.', '3', '.', '.', '.', '.']]"
   ]
  },
  {
   "cell_type": "code",
   "execution_count": 54,
   "metadata": {},
   "outputs": [
    {
     "name": "stdout",
     "output_type": "stream",
     "text": [
      "{'row02': 1, 'col42': 1, 'box0.01.33333333333333332': 1, 'row09': 1, 'col79': 1, 'box0.02.33333333333333359': 1, 'row16': 1, 'col46': 1, 'box0.33333333333333331.33333333333333336': 1, 'row27': 1, 'col07': 1, 'box0.66666666666666660.07': 1, 'row21': 1, 'col11': 1, 'box0.66666666666666660.33333333333333331': 1}\n"
     ]
    },
    {
     "data": {
      "text/plain": [
       "False"
      ]
     },
     "execution_count": 54,
     "metadata": {},
     "output_type": "execute_result"
    }
   ],
   "source": [
    "sudoku2(grid)"
   ]
  },
  {
   "cell_type": "code",
   "execution_count": null,
   "metadata": {},
   "outputs": [],
   "source": [
    "----------------------------------------------------------------------------------------------------------------------------------------"
   ]
  },
  {
   "cell_type": "code",
   "execution_count": 68,
   "metadata": {},
   "outputs": [],
   "source": [
    "Alternative solution\n",
    "\n",
    "from collections import defaultdict\n",
    "def sudoku2(grid):\n",
    "    row = defaultdict(set)\n",
    "    col = defaultdict(set)\n",
    "    square = defaultdict(set)\n",
    "    \n",
    "    print(square)\n",
    "        \n",
    "    for r in range(9):\n",
    "        for c in range(9):\n",
    "            cell = grid[r][c]\n",
    "            if cell != '.':\n",
    "                if cell in row[r] or cell in col[c] or cell in square[(r//3,c//3)]: \n",
    "                    print(square)\n",
    "                    return False\n",
    "                \n",
    "                else:\n",
    "                    row[r].add(cell)\n",
    "                    col[c].add(cell)\n",
    "                    square[(r//3, c//3)].add(cell)\n",
    "    \n",
    "                    \n",
    "    return True"
   ]
  },
  {
   "cell_type": "code",
   "execution_count": 69,
   "metadata": {},
   "outputs": [],
   "source": [
    "grid = [['.', '.', '.', '.', '2', '.', '.', '9', '.'],\n",
    "        ['.', '.', '.', '.', '6', '.', '.', '.', '.'],\n",
    "        ['7', '1', '.', '.', '7', '5', '.', '.', '.'],\n",
    "        ['.', '7', '.', '.', '.', '.', '.', '.', '.'],\n",
    "        ['.', '.', '.', '.', '8', '3', '.', '.', '.'],\n",
    "        ['.', '.', '8', '.', '.', '7', '.', '6', '.'],\n",
    "        ['.', '.', '.', '.', '.', '2', '.', '.', '.'],\n",
    "        ['.', '1', '.', '2', '.', '.', '.', '.', '.'],\n",
    "        ['.', '2', '.', '.', '3', '.', '.', '.', '.']]"
   ]
  },
  {
   "cell_type": "code",
   "execution_count": 70,
   "metadata": {},
   "outputs": [
    {
     "name": "stdout",
     "output_type": "stream",
     "text": [
      "defaultdict(<class 'set'>, {})\n",
      "defaultdict(<class 'set'>, {(0, 1): {'6', '2'}, (0, 2): {'9'}, (0, 0): {'7', '1'}})\n"
     ]
    },
    {
     "data": {
      "text/plain": [
       "False"
      ]
     },
     "execution_count": 70,
     "metadata": {},
     "output_type": "execute_result"
    }
   ],
   "source": [
    "sudoku2(grid)"
   ]
  },
  {
   "cell_type": "code",
   "execution_count": null,
   "metadata": {},
   "outputs": [],
   "source": [
    "----------------------------------------------------------------------------------------------------------------------------------------"
   ]
  }
 ],
 "metadata": {
  "kernelspec": {
   "display_name": "Python 3",
   "language": "python",
   "name": "python3"
  },
  "language_info": {
   "codemirror_mode": {
    "name": "ipython",
    "version": 3
   },
   "file_extension": ".py",
   "mimetype": "text/x-python",
   "name": "python",
   "nbconvert_exporter": "python",
   "pygments_lexer": "ipython3",
   "version": "3.7.4"
  }
 },
 "nbformat": 4,
 "nbformat_minor": 2
}
