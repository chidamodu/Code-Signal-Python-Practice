{
 "cells": [
  {
   "cell_type": "code",
   "execution_count": null,
   "metadata": {},
   "outputs": [],
   "source": [
    "Given an array a that contains only numbers in the range from 1 to a.length, find the first duplicate number for \n",
    "which the second occurrence has the minimal index. In other words, if there are more than 1 duplicated numbers, \n",
    "return the number for which the second occurrence has a smaller index than the second occurrence of the other \n",
    "number does. If there are no such elements, return -1.\n",
    "\n",
    "Example\n",
    "\n",
    "For a = [2, 1, 3, 5, 3, 2], the output should be firstDuplicate(a) = 3.\n",
    "\n",
    "There are 2 duplicates: numbers 2 and 3. The second occurrence of 3 has a smaller index than the second occurrence of \n",
    "2 does, so the answer is 3.\n",
    "\n",
    "For a = [2, 2], the output should be firstDuplicate(a) = 2;\n",
    "\n",
    "For a = [2, 4, 3, 5, 1], the output should be firstDuplicate(a) = -1"
   ]
  },
  {
   "cell_type": "code",
   "execution_count": 63,
   "metadata": {},
   "outputs": [],
   "source": [
    "#using extra space, i.e., a list stored in the variable result\n",
    "\n",
    "from collections import defaultdict\n",
    "def firstDuplicate(a):\n",
    "    d=defaultdict(list)\n",
    "    result=[]\n",
    "    \n",
    "    for ind, val in enumerate(a):\n",
    "        d[val].append(ind)\n",
    "        \n",
    "    for k in d.keys():\n",
    "        if len(d[k])>1:\n",
    "#             print(d[k][1])\n",
    "            result.append(d[k][1]) \n",
    "        \n",
    "    return a[min(result)] if result else -1"
   ]
  },
  {
   "cell_type": "code",
   "execution_count": 64,
   "metadata": {},
   "outputs": [
    {
     "data": {
      "text/plain": [
       "-1"
      ]
     },
     "execution_count": 64,
     "metadata": {},
     "output_type": "execute_result"
    }
   ],
   "source": [
    "firstDuplicate([2, 4, 3, 5, 1])"
   ]
  }
 ],
 "metadata": {
  "kernelspec": {
   "display_name": "Python 3",
   "language": "python",
   "name": "python3"
  },
  "language_info": {
   "codemirror_mode": {
    "name": "ipython",
    "version": 3
   },
   "file_extension": ".py",
   "mimetype": "text/x-python",
   "name": "python",
   "nbconvert_exporter": "python",
   "pygments_lexer": "ipython3",
   "version": "3.7.4"
  }
 },
 "nbformat": 4,
 "nbformat_minor": 2
}
