{
 "cells": [
  {
   "cell_type": "code",
   "execution_count": null,
   "metadata": {},
   "outputs": [],
   "source": [
    "Instacart customers are able to set the delivery window during which they want to receive their groceries. There are \n",
    "always plenty of shoppers in the area ready to take a customer's order, but unfortunately they can't always do it \n",
    "right away. Before taking an order a shopper wants to ensure they will make it in time. They also don't want to stay \n",
    "idle, so arriving early isn't an option either.\n",
    "\n",
    "Our task is to implement an algorithm that determines whether shoppers should take the given order or not.\n",
    "\n",
    "For each shopper you know their travel speed, distance to the store and the estimated amount of time they will spend \n",
    "there. Figure out which of them can take the order, assuming it is known when the customer wants to receive the \n",
    "groceries and the distance between their house and the store.\n",
    "\n",
    "-----------------------------------------------------------------------------------------------------------------------\n",
    "\n",
    "Example\n",
    "\n",
    "For order = [200, 20, 15] and shoppers = [[300, 40, 5], [600, 40, 10]], the output should be\n",
    "\n",
    "delivery(order, shoppers) = [false, true].\n",
    "\n",
    "The store is located 200 m away from the customer's house.\n",
    "\n",
    "The customer will be ready to receive the groceries in 20 minutes, but they shouldn't be delivered more than 15 \n",
    "minutes late.\n",
    "\n",
    "The first shopper is 300 m away from the store, his speed is 40 m/min, and he will spend 5 minutes in the store, \n",
    "which means that he will need (300 + 200) / 40 + 5 = 17.5 minutes to fulfill the order. This will leave him \n",
    "with 20 - 17.5 = 2.5 idle minutes, so he shouldn't take the order.\n",
    "\n",
    "The second shopper is 600 m away from the store, his speed is 40 m/min, and he will spend 10 minutes in the store, \n",
    "which means it will take him (600 + 200) / 40 + 10 = 30 minutes to fulfill the order. The customer can wait \n",
    "for 20 + 15 = 35 minutes, which means that the shopper will make it in time.\n"
   ]
  },
  {
   "cell_type": "code",
   "execution_count": 12,
   "metadata": {},
   "outputs": [],
   "source": [
    "\n",
    "\n",
    "def delivery(order, shoppers):\n",
    "    return lambda order, shopper:[[True for distance, time, delay in order if ((distance+d)/s)+t >=time or ((distance+d)/s)+t <= time+delay] for d, s, t in shopper]\n",
    "    \n",
    "\n",
    "    \n",
    "\n",
    "\n"
   ]
  },
  {
   "cell_type": "code",
   "execution_count": 13,
   "metadata": {},
   "outputs": [
    {
     "data": {
      "text/plain": [
       "<function __main__.delivery.<locals>.<lambda>(order, shopper)>"
      ]
     },
     "execution_count": 13,
     "metadata": {},
     "output_type": "execute_result"
    }
   ],
   "source": [
    "order = [200, 20, 15]\n",
    "shoppers = [[300, 40, 5], [600, 40, 10]]\n",
    "\n",
    "delivery(order, shoppers)"
   ]
  },
  {
   "cell_type": "code",
   "execution_count": 28,
   "metadata": {},
   "outputs": [],
   "source": [
    "Yay, my solution is correct and rocks!\n",
    "\n",
    "def delivery(order, shoppers):\n",
    "    result=[]\n",
    "    \n",
    "    names=['distance', 'time', 'delay']\n",
    "    d=dict(zip(names, order))\n",
    "\n",
    "    for dist, s, t in shoppers:\n",
    "        if ((d['distance']+dist)/s)+t >= d['time'] and ((d['distance']+dist)/s)+t <= (d['time']+d['delay']):\n",
    "            result.append(True)\n",
    "            \n",
    "        else:\n",
    "            result.append(False)\n",
    "            \n",
    "            \n",
    "    return result\n",
    "        \n",
    "        "
   ]
  },
  {
   "cell_type": "code",
   "execution_count": 29,
   "metadata": {},
   "outputs": [
    {
     "name": "stdout",
     "output_type": "stream",
     "text": [
      "{'distance': 200, 'time': 20, 'delay': 15}\n"
     ]
    },
    {
     "data": {
      "text/plain": [
       "[False, True]"
      ]
     },
     "execution_count": 29,
     "metadata": {},
     "output_type": "execute_result"
    }
   ],
   "source": [
    "order = [200, 20, 15]\n",
    "shoppers = [[300, 40, 5], [600, 40, 10]]\n",
    "\n",
    "delivery(order, shoppers)"
   ]
  }
 ],
 "metadata": {
  "kernelspec": {
   "display_name": "Python 3",
   "language": "python",
   "name": "python3"
  },
  "language_info": {
   "codemirror_mode": {
    "name": "ipython",
    "version": 3
   },
   "file_extension": ".py",
   "mimetype": "text/x-python",
   "name": "python",
   "nbconvert_exporter": "python",
   "pygments_lexer": "ipython3",
   "version": "3.7.4"
  }
 },
 "nbformat": 4,
 "nbformat_minor": 2
}
